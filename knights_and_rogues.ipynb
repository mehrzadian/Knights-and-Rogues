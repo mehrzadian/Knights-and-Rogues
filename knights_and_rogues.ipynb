{
 "cells": [
  {
   "attachments": {},
   "cell_type": "markdown",
   "metadata": {},
   "source": [
    "we want to find all the knights, to do so we can first find a knight then ask him if others are knight or rogue."
   ]
  },
  {
   "attachments": {},
   "cell_type": "markdown",
   "metadata": {},
   "source": [
    "<!DOCTYPE html>\n",
    "<html>\n",
    "<head>\n",
    "<style>\n",
    "table {\n",
    "  border-collapse: collapse;\n",
    "  width: 100%;\n",
    "}\n",
    "\n",
    "th, td {\n",
    "  text-align: left;\n",
    "  padding: 8px;\n",
    "}\n",
    "\n",
    "tr:nth-child(even) {\n",
    "  background-color: #D6EEEE;\n",
    "}\n",
    "</style>\n",
    "</head>\n",
    "<body>\n",
    "first let's make the class for person. each person is either knight (honest) or rogue(Liar).\n",
    "\n",
    "each person can evaluate the other one. we don't know what will the rogue say about others! \n",
    "\n",
    "<table width=100% border:5px>\n",
    "<colgroup>\n",
    "  <col span=\"2\" style=\"background-color: DodgerBlue;\">\n",
    "</colgroup>\n",
    "  <tr>\n",
    "    <th>Person 1</th>\n",
    "    <th>Person 2</th>\n",
    "    <th>p1 evaluation of p2</th>\n",
    "    <th>p2 evaluation of p1</th>\n",
    "  </tr>\n",
    "  <tr>\n",
    "    <td>H</td>\n",
    "    <td>H</td>\n",
    "    <td>H</td>\n",
    "    <td>H</td>\n",
    "  </tr>\n",
    "  <tr>\n",
    "    <td>H</td>\n",
    "    <td>L</td>\n",
    "    <td>L</td>\n",
    "    <td>EITHER</td>\n",
    "  </tr>\n",
    "  <tr>\n",
    "    <td>L</td>\n",
    "    <td>H</td>\n",
    "    <td>EITHER</td>\n",
    "    <td>L</td>\n",
    "  </tr>\n",
    "  <tr>\n",
    "    <td>L</td>\n",
    "    <td>L</td>\n",
    "    <td>EITHER</td>\n",
    "    <td>EITHER</td>\n",
    "  </tr>\n",
    "</table>\n",
    "</body>\n",
    "</html>"
   ]
  },
  {
   "cell_type": "code",
   "execution_count": null,
   "metadata": {},
   "outputs": [],
   "source": [
    "import random\n",
    "class Person:\n",
    "    '''person with attribute of honesty and id, which can evalute others'''\n",
    "    def __init__(self,honesty,id):\n",
    "        self.honesty = honesty\n",
    "        self.id = id\n",
    "    def ishonest(self, p2):\n",
    "        '''if the person is honest will tell the truth about the other one, otherwise \n",
    "        he will tell sth random'''\n",
    "        if self.honesty==True:\n",
    "            return p2.honesty\n",
    "        else :\n",
    "            r = random.randint(0,1)\n",
    "            if r==0:\n",
    "                return False\n",
    "            return True\n",
    "    def __str__(self):\n",
    "        return str(self.honesty)+\"-\"+str(self.id)"
   ]
  },
  {
   "attachments": {},
   "cell_type": "markdown",
   "metadata": {},
   "source": [
    "<html>\n",
    "<body>\n",
    "now we build a sequence of kinghts and rogues.\n",
    "notice that number of rogurs must be less than knights.\n",
    "</body>\n",
    "</html>\n"
   ]
  },
  {
   "cell_type": "code",
   "execution_count": null,
   "metadata": {},
   "outputs": [],
   "source": [
    "n = int(input())\n",
    "def seq(n):\n",
    "    '''create the sequence of people with respect to n \n",
    "    in which  honests are more'''\n",
    "    ls=[]\n",
    "    zeros=0\n",
    "    for i in range(n):\n",
    "        r = random.randint(0,1)\n",
    "        if r==0:\n",
    "            zeros+=1\n",
    "            if n%2==1 and zeros<= n//2:\n",
    "                p=Person(honesty=False,id=i)\n",
    "            elif n%2==0 and zeros< n//2:\n",
    "                p=Person(honesty=False,id=i)\n",
    "            else:\n",
    "                p=Person(honesty=True,id=i)\n",
    "        else:\n",
    "            p=Person(True,id=i)\n",
    "        ls.append(p)\n",
    "    return ls"
   ]
  },
  {
   "cell_type": "code",
   "execution_count": null,
   "metadata": {},
   "outputs": [],
   "source": [
    "ls=seq(n)\n",
    "for i in range(n):\n",
    "    print(ls[i])"
   ]
  },
  {
   "cell_type": "markdown",
   "metadata": {},
   "source": []
  }
 ],
 "metadata": {
  "kernelspec": {
   "display_name": "Python 3",
   "language": "python",
   "name": "python3"
  },
  "language_info": {
   "name": "python",
   "version": "3.11.0"
  },
  "orig_nbformat": 4
 },
 "nbformat": 4,
 "nbformat_minor": 2
}
