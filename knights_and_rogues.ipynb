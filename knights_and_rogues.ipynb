{
 "cells": [
  {
   "attachments": {},
   "cell_type": "markdown",
   "metadata": {},
   "source": [
    "<h1>KNIGHTS AND ROGUES</h1>\n",
    "we want to find all the knights, to do so we can first find a knight then ask him if others are knight or rogue."
   ]
  },
  {
   "attachments": {},
   "cell_type": "markdown",
   "metadata": {},
   "source": [
    "<!DOCTYPE html>\n",
    "<html>\n",
    "<head>\n",
    "<style>\n",
    "table {\n",
    "  border-collapse: collapse;\n",
    "  width: 100%;\n",
    "}\n",
    "\n",
    "th, td {\n",
    "  text-align: left;\n",
    "  padding: 8px;\n",
    "}\n",
    "\n",
    "tr:nth-child(even) {\n",
    "  background-color: #D6EEEE;\n",
    "}\n",
    "</style>\n",
    "</head>\n",
    "<body>\n",
    "first let's make the class for person. each person is either knight (honest) or rogue(Liar).\n",
    "\n",
    "each person can evaluate the other one. we don't know what will the rogue say about others! \n",
    "\n",
    "<table width=100% border:5px>\n",
    "<colgroup>\n",
    "  <col span=\"2\" style=\"background-color: DodgerBlue;\">\n",
    "</colgroup>\n",
    "  <tr>\n",
    "    <th>Person 1</th>\n",
    "    <th>Person 2</th>\n",
    "    <th>p1 evaluation of p2</th>\n",
    "    <th>p2 evaluation of p1</th>\n",
    "  </tr>\n",
    "  <tr>\n",
    "    <td>H</td>\n",
    "    <td>H</td>\n",
    "    <td>H</td>\n",
    "    <td>H</td>\n",
    "  </tr>\n",
    "  <tr>\n",
    "    <td>H</td>\n",
    "    <td>L</td>\n",
    "    <td>L</td>\n",
    "    <td>EITHER</td>\n",
    "  </tr>\n",
    "  <tr>\n",
    "    <td>L</td>\n",
    "    <td>H</td>\n",
    "    <td>EITHER</td>\n",
    "    <td>L</td>\n",
    "  </tr>\n",
    "  <tr>\n",
    "    <td>L</td>\n",
    "    <td>L</td>\n",
    "    <td>EITHER</td>\n",
    "    <td>EITHER</td>\n",
    "  </tr>\n",
    "</table>\n",
    "</body>\n",
    "</html>"
   ]
  },
  {
   "cell_type": "code",
   "execution_count": 1,
   "metadata": {},
   "outputs": [],
   "source": [
    "import random\n",
    "class Person:\n",
    "    '''person with attribute of honesty and id, which can evalute others'''\n",
    "    def __init__(self,honesty,id):\n",
    "        self.honesty = honesty\n",
    "        self.id = id\n",
    "    def ishonest(self, p2):\n",
    "        '''if the person is honest will tell the truth about the other one, otherwise \n",
    "        he will tell sth random'''\n",
    "        if self.honesty==True:\n",
    "            return p2.honesty\n",
    "        else :\n",
    "            r = random.randint(0,1)\n",
    "            if r==0:\n",
    "                return False\n",
    "            return True\n",
    "    def __str__(self):\n",
    "        return str(self.honesty)+\"-\"+str(self.id)"
   ]
  },
  {
   "attachments": {},
   "cell_type": "markdown",
   "metadata": {},
   "source": [
    "<html>\n",
    "<body>\n",
    "now we build a sequence of kinghts and rogues.\n",
    "notice that number of rogurs must be less than knights.\n",
    "</body>\n",
    "</html>\n"
   ]
  },
  {
   "cell_type": "code",
   "execution_count": 3,
   "metadata": {},
   "outputs": [],
   "source": [
    "n = int(input())\n",
    "def seq(n):\n",
    "    '''create the sequence of people with respect to n \n",
    "    in which  honests are more'''\n",
    "    ls=[]\n",
    "    zeros=0\n",
    "    for i in range(n):\n",
    "        r = random.randint(0,1)\n",
    "        if r==0:\n",
    "            zeros+=1\n",
    "            if n%2==1 and zeros<= n//2:\n",
    "                p=Person(honesty=False,id=i)\n",
    "            elif n%2==0 and zeros< n//2:\n",
    "                p=Person(honesty=False,id=i)\n",
    "            else:\n",
    "                p=Person(honesty=True,id=i)\n",
    "        else:\n",
    "            p=Person(True,id=i)\n",
    "        ls.append(p)\n",
    "    return ls"
   ]
  },
  {
   "cell_type": "code",
   "execution_count": 4,
   "metadata": {},
   "outputs": [
    {
     "name": "stdout",
     "output_type": "stream",
     "text": [
      "True-0\n",
      "False-1\n",
      "False-2\n",
      "False-3\n",
      "True-4\n",
      "False-5\n",
      "True-6\n",
      "True-7\n",
      "True-8\n",
      "True-9\n"
     ]
    }
   ],
   "source": [
    "ls=seq(n)\n",
    "for i in range(n):\n",
    "    print(ls[i])"
   ]
  },
  {
   "attachments": {},
   "cell_type": "markdown",
   "metadata": {},
   "source": [
    "how to find a knight?\n",
    "1. pair up people in seq two by two\n",
    "2. let them evaluate each other\n",
    "3. add one of the persons in pair to the new list if they both evaluate each other as honest.\n",
    "if there is no one in new list at the end, it means that one last person which you did'nt pair with others is a knight(this happens when length of seq is odd) otherwise do step 1-3 for the new list.\n"
   ]
  },
  {
   "cell_type": "code",
   "execution_count": 5,
   "metadata": {},
   "outputs": [
    {
     "name": "stdout",
     "output_type": "stream",
     "text": [
      "\n",
      "The first honest person that we found is:\n",
      " True-6 \n",
      "\n"
     ]
    }
   ],
   "source": [
    "def find_honest(seq):\n",
    "    ls=[]\n",
    "    for i in range(0,len(seq)-1,2):\n",
    "        p1 = seq[i]\n",
    "        p2 = seq[i+1]\n",
    "        if p1.ishonest(p2) and p2.ishonest(p1):\n",
    "            ls.append(p1)\n",
    "    if len(ls)==0:\n",
    "        return seq[-1]\n",
    "    return find_honest(ls)\n",
    "honest = find_honest(ls)\n",
    "print(\"\\nThe first honest person that we found is:\\n\", honest, \"\\n\")"
   ]
  },
  {
   "attachments": {},
   "cell_type": "markdown",
   "metadata": {},
   "source": [
    "ask from honest about honesty of others and print the knights."
   ]
  },
  {
   "cell_type": "code",
   "execution_count": 6,
   "metadata": {},
   "outputs": [
    {
     "name": "stdout",
     "output_type": "stream",
     "text": [
      "All of the honests in sequence:\n",
      "True-0\n",
      "True-4\n",
      "True-6\n",
      "True-7\n",
      "True-8\n",
      "True-9\n"
     ]
    }
   ],
   "source": [
    "def print_honests(seq,honest):\n",
    "    for person in seq:\n",
    "        if honest.ishonest(person):\n",
    "            print(person)\n",
    "print(\"All of the honests in sequence:\")\n",
    "print_honests(ls,honest)"
   ]
  }
 ],
 "metadata": {
  "kernelspec": {
   "display_name": "Python 3",
   "language": "python",
   "name": "python3"
  },
  "language_info": {
   "codemirror_mode": {
    "name": "ipython",
    "version": 3
   },
   "file_extension": ".py",
   "mimetype": "text/x-python",
   "name": "python",
   "nbconvert_exporter": "python",
   "pygments_lexer": "ipython3",
   "version": "3.11.0"
  },
  "orig_nbformat": 4
 },
 "nbformat": 4,
 "nbformat_minor": 2
}
