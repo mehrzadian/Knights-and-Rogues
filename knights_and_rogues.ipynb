{
 "cells": [
  {
   "attachments": {},
   "cell_type": "markdown",
   "metadata": {},
   "source": [
    "we want to find all the knights, to do so we can first find a knight then ask him if others are knight or rogue."
   ]
  },
  {
   "attachments": {},
   "cell_type": "markdown",
   "metadata": {},
   "source": [
    "first let's make the class for person. each person is either knight (honest) or rogue(Liar).\n",
    "\n",
    "each person can evaluate the other one. we don't know what will the rogue say about others! \n",
    "\n",
    "<table>\n",
    "  <tr>\n",
    "    <th>Person 1</th>\n",
    "    <th>Person 2</th>\n",
    "    <th>p1 evaluation of p2</th>\n",
    "    <th>p2 evaluation of p1</th>\n",
    "  </tr>\n",
    "  <tr>\n",
    "    <td>H</td>\n",
    "    <td>H</td>\n",
    "    <td>H</td>\n",
    "    <td>H</td>\n",
    "  </tr>\n",
    "  <tr>\n",
    "    <td>H</td>\n",
    "    <td>L</td>\n",
    "    <td>L</td>\n",
    "    <td>EITHER</td>\n",
    "  </tr>\n",
    "  <tr>\n",
    "    <td>L</td>\n",
    "    <td>H</td>\n",
    "    <td>EITHER</td>\n",
    "    <td>L</td>\n",
    "  </tr>\n",
    "  <tr>\n",
    "    <td>L</td>\n",
    "    <td>L</td>\n",
    "    <td>EITHER</td>\n",
    "    <td>EITHER</td>\n",
    "  </tr>\n",
    "</table>"
   ]
  },
  {
   "cell_type": "code",
   "execution_count": null,
   "metadata": {},
   "outputs": [],
   "source": [
    "import random\n",
    "class Person:\n",
    "    '''person with attribute of honesty and id, which can evalute others'''\n",
    "    def __init__(self,honesty,id):\n",
    "        self.honesty = honesty\n",
    "        self.id = id\n",
    "    def ishonest(self, p2):\n",
    "        '''if the person is honest will tell the truth about the other one, otherwise \n",
    "        he will tell sth random'''\n",
    "        if self.honesty==True:\n",
    "            return p2.honesty\n",
    "        else :\n",
    "            r = random.randint(0,1)\n",
    "            if r==0:\n",
    "                return False\n",
    "            return True\n",
    "    def __str__(self):\n",
    "        return str(self.honesty)+\"-\"+str(self.id)"
   ]
  }
 ],
 "metadata": {
  "kernelspec": {
   "display_name": "Python 3",
   "language": "python",
   "name": "python3"
  },
  "language_info": {
   "name": "python",
   "version": "3.11.0"
  },
  "orig_nbformat": 4
 },
 "nbformat": 4,
 "nbformat_minor": 2
}
